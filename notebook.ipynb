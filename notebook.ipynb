{
 "cells": [
  {
   "cell_type": "code",
   "execution_count": 7,
   "id": "a00dc371",
   "metadata": {},
   "outputs": [],
   "source": [
    "import numpy as np\n",
    "import pandas as pd\n",
    "import pickle as pkl\n",
    "from tqdm import tqdm"
   ]
  },
  {
   "cell_type": "code",
   "execution_count": 2,
   "id": "4b41d1ff",
   "metadata": {},
   "outputs": [],
   "source": [
    "file_path = '../pyanomaly-master/output/merge.pickle'\n",
    "with open(file_path, 'rb') as f:\n",
    "    obj = pkl.load(f)\n",
    "    \n",
    "df = pd.DataFrame(obj)"
   ]
  },
  {
   "cell_type": "code",
   "execution_count": 3,
   "id": "5f4c8d3c",
   "metadata": {},
   "outputs": [
    {
     "data": {
      "text/plain": [
       "DatetimeIndex(['2010-01-31', '2010-02-28', '2010-03-31', '2010-04-30',\n",
       "               '2010-05-31', '2010-06-30', '2010-07-31', '2010-08-31',\n",
       "               '2010-09-30', '2010-10-31'],\n",
       "              dtype='datetime64[ns]', name='date', freq=None)"
      ]
     },
     "execution_count": 3,
     "metadata": {},
     "output_type": "execute_result"
    }
   ],
   "source": [
    "# Get indexes\n",
    "dates = df.index.get_level_values('date')\n",
    "permno_ids = df.index.get_level_values('permno')\n",
    "dates[0:10]"
   ]
  },
  {
   "cell_type": "code",
   "execution_count": 4,
   "id": "471eabba",
   "metadata": {},
   "outputs": [
    {
     "data": {
      "text/plain": [
       "9206"
      ]
     },
     "execution_count": 4,
     "metadata": {},
     "output_type": "execute_result"
    }
   ],
   "source": [
    "# Count unique permnos\n",
    "count = 0\n",
    "permno_set = set()\n",
    "for p in permno_ids.to_list():\n",
    "    if p not in permno_set:\n",
    "        count += 1\n",
    "        permno_set.add(p)\n",
    "count"
   ]
  },
  {
   "cell_type": "code",
   "execution_count": 5,
   "id": "842f59db",
   "metadata": {},
   "outputs": [
    {
     "data": {
      "text/plain": [
       "date        permno\n",
       "2010-01-31  10001    -0.018960\n",
       "2010-02-28  10001    -0.000666\n",
       "2010-03-31  10001     0.020575\n",
       "2010-04-30  10001     0.124274\n",
       "2010-05-31  10001     0.004717\n",
       "Name: exret, dtype: float64"
      ]
     },
     "execution_count": 5,
     "metadata": {},
     "output_type": "execute_result"
    }
   ],
   "source": [
    "exclude_columns = [\"gvkey\", \"datadate\", \"primary\", \"exchcd\", \"ret\", \"exret\", \"rf\"]\n",
    "exret = df.exret\n",
    "features = df.drop(columns=exclude_columns)\n",
    "exret.head()"
   ]
  },
  {
   "cell_type": "code",
   "execution_count": null,
   "id": "3916f966",
   "metadata": {},
   "outputs": [
    {
     "name": "stderr",
     "output_type": "stream",
     "text": [
      " 38%|██████████████████████████████████████████████████████▉                                                                                           | 3464/9206 [41:41<15:48,  6.05it/s]"
     ]
    }
   ],
   "source": [
    "# Build data for lstm\n",
    "past = 5 # 5 months of data\n",
    "future = 1 # next month risk prem\n",
    "X_arr,y = [],[]\n",
    "\n",
    "for p in tqdm(permno_set):\n",
    "    idxs = [idx for idx, val in enumerate(permno_ids) if val == p]\n",
    "    temp_df = df.iloc[idxs]\n",
    "    temp_exret = exret.iloc[idxs]\n",
    "    \n",
    "    for i in range(len(temp_df) - past - future + 1):\n",
    "        X_arr.append(temp_df.iloc[i:i+past])\n",
    "        y.append(temp_exret.iloc[i+past:i+past+future])\n",
    "        "
   ]
  }
 ],
 "metadata": {
  "kernelspec": {
   "display_name": "Python 3 (ipykernel)",
   "language": "python",
   "name": "python3"
  },
  "language_info": {
   "codemirror_mode": {
    "name": "ipython",
    "version": 3
   },
   "file_extension": ".py",
   "mimetype": "text/x-python",
   "name": "python",
   "nbconvert_exporter": "python",
   "pygments_lexer": "ipython3",
   "version": "3.10.3"
  }
 },
 "nbformat": 4,
 "nbformat_minor": 5
}
