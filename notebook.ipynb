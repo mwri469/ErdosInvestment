{
 "cells": [
  {
   "cell_type": "code",
   "execution_count": 18,
   "id": "d7409025",
   "metadata": {},
   "outputs": [],
   "source": [
    "import numpy as np\n",
    "import pandas as pd\n",
    "import pickle as pkl\n",
    "from tqdm import tqdm"
   ]
  },
  {
   "cell_type": "code",
   "execution_count": 19,
   "id": "6f34fe06",
   "metadata": {},
   "outputs": [],
   "source": [
    "file_path = '../pyanomaly-master/output/merge.pickle'\n",
    "with open(file_path, 'rb') as f:\n",
    "    obj = pkl.load(f)\n",
    "    \n",
    "df = pd.DataFrame(obj)"
   ]
  },
  {
   "cell_type": "code",
   "execution_count": 20,
   "id": "e3db866f",
   "metadata": {},
   "outputs": [
    {
     "data": {
      "text/plain": [
       "DatetimeIndex(['2010-01-31', '2010-02-28', '2010-03-31', '2010-04-30',\n",
       "               '2010-05-31', '2010-06-30', '2010-07-31', '2010-08-31',\n",
       "               '2010-09-30', '2010-10-31'],\n",
       "              dtype='datetime64[ns]', name='date', freq=None)"
      ]
     },
     "execution_count": 20,
     "metadata": {},
     "output_type": "execute_result"
    }
   ],
   "source": [
    "# Get indexes\n",
    "dates = df.index.get_level_values('date')\n",
    "permno_ids = df.index.get_level_values('permno')\n",
    "dates[0:10]"
   ]
  },
  {
   "cell_type": "code",
   "execution_count": 32,
   "id": "f1a34355",
   "metadata": {},
   "outputs": [
    {
     "data": {
      "text/plain": [
       "9206"
      ]
     },
     "execution_count": 32,
     "metadata": {},
     "output_type": "execute_result"
    }
   ],
   "source": [
    "# Count unique permnos\n",
    "count = 0\n",
    "permno_set = set()\n",
    "for p in permno_ids.to_list():\n",
    "    if p not in permno_set:\n",
    "        count += 1\n",
    "        permno_set.add(p)\n",
    "count"
   ]
  },
  {
   "cell_type": "code",
   "execution_count": 33,
   "id": "8320b8a3",
   "metadata": {},
   "outputs": [
    {
     "data": {
      "text/plain": [
       "date        permno\n",
       "2010-01-31  10001    -0.018960\n",
       "2010-02-28  10001    -0.000666\n",
       "2010-03-31  10001     0.020575\n",
       "2010-04-30  10001     0.124274\n",
       "2010-05-31  10001     0.004717\n",
       "Name: exret, dtype: float64"
      ]
     },
     "execution_count": 33,
     "metadata": {},
     "output_type": "execute_result"
    }
   ],
   "source": [
    "exclude_columns = [\"gvkey\", \"datadate\", \"primary\", \"exchcd\", \"ret\", \"exret\", \"rf\", \"me\"]\n",
    "exret = df.exret\n",
    "features = df.drop(columns=exclude_columns)\n",
    "exret.head()"
   ]
  },
  {
   "cell_type": "code",
   "execution_count": 34,
   "id": "c509d744",
   "metadata": {},
   "outputs": [],
   "source": [
    "p0 = permno_set.pop()\n",
    "idxs = [idx for idx, val in enumerate(permno_ids) if val == p]\n",
    "temp_df = features.iloc[idxs]\n",
    "temp_exret = exret.iloc[idxs]\n",
    "i=90\n",
    "x_temp = temp_df.iloc[i:i+5]\n",
    "y_temp = temp_exret.iloc[i+5:i+5+1]"
   ]
  },
  {
   "cell_type": "code",
   "execution_count": 35,
   "id": "46eeed8f",
   "metadata": {},
   "outputs": [
    {
     "data": {
      "text/plain": [
       "array([[ 9.40000000e+01,  1.66704276e-01,  5.34643530e-01, ...,\n",
       "         2.51832431e-02,  1.34928009e+00,  1.09124034e-01],\n",
       "       [ 9.50000000e+01,  1.59252012e-01,  4.50969071e-01, ...,\n",
       "         1.19740330e-02, -5.46508811e-01,  1.09631669e-01],\n",
       "       [ 9.60000000e+01,  1.59466296e-01,  4.84702059e-01, ...,\n",
       "         1.19740330e-02, -5.46508811e-01,  1.09631669e-01],\n",
       "       [ 9.70000000e+01,  1.67951882e-01,  4.59847269e-01, ...,\n",
       "         1.19740330e-02, -5.46508811e-01,  1.09631669e-01],\n",
       "       [ 9.80000000e+01,  3.30914054e-01,  3.58832925e-01, ...,\n",
       "         1.90965471e-02,  8.64726497e-02,  1.21669637e-01]])"
      ]
     },
     "execution_count": 35,
     "metadata": {},
     "output_type": "execute_result"
    }
   ],
   "source": [
    "x_temp.to_numpy()"
   ]
  },
  {
   "cell_type": "code",
   "execution_count": 36,
   "id": "57b6bc65",
   "metadata": {},
   "outputs": [
    {
     "data": {
      "text/html": [
       "<div>\n",
       "<style scoped>\n",
       "    .dataframe tbody tr th:only-of-type {\n",
       "        vertical-align: middle;\n",
       "    }\n",
       "\n",
       "    .dataframe tbody tr th {\n",
       "        vertical-align: top;\n",
       "    }\n",
       "\n",
       "    .dataframe thead th {\n",
       "        text-align: right;\n",
       "    }\n",
       "</style>\n",
       "<table border=\"1\" class=\"dataframe\">\n",
       "  <thead>\n",
       "    <tr style=\"text-align: right;\">\n",
       "      <th></th>\n",
       "      <th></th>\n",
       "      <th>age</th>\n",
       "      <th>mispricing_mgmt</th>\n",
       "      <th>mispricing_perf</th>\n",
       "      <th>qmj</th>\n",
       "      <th>qmj_growth</th>\n",
       "      <th>qmj_prof</th>\n",
       "      <th>qmj_safety</th>\n",
       "      <th>beta_60m</th>\n",
       "      <th>chcsho_12m</th>\n",
       "      <th>chmom</th>\n",
       "      <th>...</th>\n",
       "      <th>niq_at</th>\n",
       "      <th>niq_at_chg1</th>\n",
       "      <th>niq_be</th>\n",
       "      <th>niq_be_chg1</th>\n",
       "      <th>niq_su</th>\n",
       "      <th>ocfq_saleq_std</th>\n",
       "      <th>roavol</th>\n",
       "      <th>rsup</th>\n",
       "      <th>saleq_su</th>\n",
       "      <th>stdacc</th>\n",
       "    </tr>\n",
       "    <tr>\n",
       "      <th>date</th>\n",
       "      <th>permno</th>\n",
       "      <th></th>\n",
       "      <th></th>\n",
       "      <th></th>\n",
       "      <th></th>\n",
       "      <th></th>\n",
       "      <th></th>\n",
       "      <th></th>\n",
       "      <th></th>\n",
       "      <th></th>\n",
       "      <th></th>\n",
       "      <th></th>\n",
       "      <th></th>\n",
       "      <th></th>\n",
       "      <th></th>\n",
       "      <th></th>\n",
       "      <th></th>\n",
       "      <th></th>\n",
       "      <th></th>\n",
       "      <th></th>\n",
       "      <th></th>\n",
       "      <th></th>\n",
       "    </tr>\n",
       "  </thead>\n",
       "  <tbody>\n",
       "    <tr>\n",
       "      <th>2017-12-31</th>\n",
       "      <th>93436</th>\n",
       "      <td>94.0</td>\n",
       "      <td>0.166704</td>\n",
       "      <td>0.534644</td>\n",
       "      <td>-0.664615</td>\n",
       "      <td>1.093642</td>\n",
       "      <td>-1.208096</td>\n",
       "      <td>-0.708078</td>\n",
       "      <td>1.199302</td>\n",
       "      <td>0.044788</td>\n",
       "      <td>-0.831205</td>\n",
       "      <td>...</td>\n",
       "      <td>-0.013427</td>\n",
       "      <td>0.018470</td>\n",
       "      <td>-0.067445</td>\n",
       "      <td>0.234697</td>\n",
       "      <td>0.187433</td>\n",
       "      <td>0.152166</td>\n",
       "      <td>0.011885</td>\n",
       "      <td>0.025183</td>\n",
       "      <td>1.349280</td>\n",
       "      <td>0.109124</td>\n",
       "    </tr>\n",
       "    <tr>\n",
       "      <th>2018-01-31</th>\n",
       "      <th>93436</th>\n",
       "      <td>95.0</td>\n",
       "      <td>0.159252</td>\n",
       "      <td>0.450969</td>\n",
       "      <td>-1.041790</td>\n",
       "      <td>0.694345</td>\n",
       "      <td>-1.291706</td>\n",
       "      <td>-0.951286</td>\n",
       "      <td>1.226342</td>\n",
       "      <td>0.044084</td>\n",
       "      <td>-0.188624</td>\n",
       "      <td>...</td>\n",
       "      <td>-0.023782</td>\n",
       "      <td>-0.025625</td>\n",
       "      <td>-0.121309</td>\n",
       "      <td>-0.129990</td>\n",
       "      <td>-2.937532</td>\n",
       "      <td>0.136547</td>\n",
       "      <td>0.011907</td>\n",
       "      <td>0.011974</td>\n",
       "      <td>-0.546509</td>\n",
       "      <td>0.109632</td>\n",
       "    </tr>\n",
       "    <tr>\n",
       "      <th>2018-02-28</th>\n",
       "      <th>93436</th>\n",
       "      <td>96.0</td>\n",
       "      <td>0.159466</td>\n",
       "      <td>0.484702</td>\n",
       "      <td>-1.047236</td>\n",
       "      <td>0.700880</td>\n",
       "      <td>-1.291295</td>\n",
       "      <td>-0.945867</td>\n",
       "      <td>1.240570</td>\n",
       "      <td>0.044844</td>\n",
       "      <td>-0.459733</td>\n",
       "      <td>...</td>\n",
       "      <td>-0.023782</td>\n",
       "      <td>-0.025625</td>\n",
       "      <td>-0.121309</td>\n",
       "      <td>-0.129990</td>\n",
       "      <td>-2.937532</td>\n",
       "      <td>0.136547</td>\n",
       "      <td>0.011907</td>\n",
       "      <td>0.011974</td>\n",
       "      <td>-0.546509</td>\n",
       "      <td>0.109632</td>\n",
       "    </tr>\n",
       "    <tr>\n",
       "      <th>2018-03-31</th>\n",
       "      <th>93436</th>\n",
       "      <td>97.0</td>\n",
       "      <td>0.167952</td>\n",
       "      <td>0.459847</td>\n",
       "      <td>-1.058551</td>\n",
       "      <td>0.698263</td>\n",
       "      <td>-1.286568</td>\n",
       "      <td>-1.004619</td>\n",
       "      <td>1.379444</td>\n",
       "      <td>0.034027</td>\n",
       "      <td>-0.445443</td>\n",
       "      <td>...</td>\n",
       "      <td>-0.023782</td>\n",
       "      <td>-0.025625</td>\n",
       "      <td>-0.121309</td>\n",
       "      <td>-0.129990</td>\n",
       "      <td>-2.937532</td>\n",
       "      <td>0.136547</td>\n",
       "      <td>0.011907</td>\n",
       "      <td>0.011974</td>\n",
       "      <td>-0.546509</td>\n",
       "      <td>0.109632</td>\n",
       "    </tr>\n",
       "    <tr>\n",
       "      <th>2018-04-30</th>\n",
       "      <th>93436</th>\n",
       "      <td>98.0</td>\n",
       "      <td>0.330914</td>\n",
       "      <td>0.358833</td>\n",
       "      <td>-0.469646</td>\n",
       "      <td>1.646153</td>\n",
       "      <td>-1.008476</td>\n",
       "      <td>-1.097450</td>\n",
       "      <td>1.342683</td>\n",
       "      <td>0.033690</td>\n",
       "      <td>-0.169096</td>\n",
       "      <td>...</td>\n",
       "      <td>-0.024028</td>\n",
       "      <td>-0.014392</td>\n",
       "      <td>-0.143341</td>\n",
       "      <td>-0.098075</td>\n",
       "      <td>-1.533735</td>\n",
       "      <td>0.130207</td>\n",
       "      <td>0.011355</td>\n",
       "      <td>0.019097</td>\n",
       "      <td>0.086473</td>\n",
       "      <td>0.121670</td>\n",
       "    </tr>\n",
       "  </tbody>\n",
       "</table>\n",
       "<p>5 rows × 214 columns</p>\n",
       "</div>"
      ],
      "text/plain": [
       "                    age  mispricing_mgmt  mispricing_perf       qmj  \\\n",
       "date       permno                                                     \n",
       "2017-12-31 93436   94.0         0.166704         0.534644 -0.664615   \n",
       "2018-01-31 93436   95.0         0.159252         0.450969 -1.041790   \n",
       "2018-02-28 93436   96.0         0.159466         0.484702 -1.047236   \n",
       "2018-03-31 93436   97.0         0.167952         0.459847 -1.058551   \n",
       "2018-04-30 93436   98.0         0.330914         0.358833 -0.469646   \n",
       "\n",
       "                   qmj_growth  qmj_prof  qmj_safety  beta_60m  chcsho_12m  \\\n",
       "date       permno                                                           \n",
       "2017-12-31 93436     1.093642 -1.208096   -0.708078  1.199302    0.044788   \n",
       "2018-01-31 93436     0.694345 -1.291706   -0.951286  1.226342    0.044084   \n",
       "2018-02-28 93436     0.700880 -1.291295   -0.945867  1.240570    0.044844   \n",
       "2018-03-31 93436     0.698263 -1.286568   -1.004619  1.379444    0.034027   \n",
       "2018-04-30 93436     1.646153 -1.008476   -1.097450  1.342683    0.033690   \n",
       "\n",
       "                      chmom  ...    niq_at  niq_at_chg1    niq_be  \\\n",
       "date       permno            ...                                    \n",
       "2017-12-31 93436  -0.831205  ... -0.013427     0.018470 -0.067445   \n",
       "2018-01-31 93436  -0.188624  ... -0.023782    -0.025625 -0.121309   \n",
       "2018-02-28 93436  -0.459733  ... -0.023782    -0.025625 -0.121309   \n",
       "2018-03-31 93436  -0.445443  ... -0.023782    -0.025625 -0.121309   \n",
       "2018-04-30 93436  -0.169096  ... -0.024028    -0.014392 -0.143341   \n",
       "\n",
       "                   niq_be_chg1    niq_su  ocfq_saleq_std    roavol      rsup  \\\n",
       "date       permno                                                              \n",
       "2017-12-31 93436      0.234697  0.187433        0.152166  0.011885  0.025183   \n",
       "2018-01-31 93436     -0.129990 -2.937532        0.136547  0.011907  0.011974   \n",
       "2018-02-28 93436     -0.129990 -2.937532        0.136547  0.011907  0.011974   \n",
       "2018-03-31 93436     -0.129990 -2.937532        0.136547  0.011907  0.011974   \n",
       "2018-04-30 93436     -0.098075 -1.533735        0.130207  0.011355  0.019097   \n",
       "\n",
       "                   saleq_su    stdacc  \n",
       "date       permno                      \n",
       "2017-12-31 93436   1.349280  0.109124  \n",
       "2018-01-31 93436  -0.546509  0.109632  \n",
       "2018-02-28 93436  -0.546509  0.109632  \n",
       "2018-03-31 93436  -0.546509  0.109632  \n",
       "2018-04-30 93436   0.086473  0.121670  \n",
       "\n",
       "[5 rows x 214 columns]"
      ]
     },
     "execution_count": 36,
     "metadata": {},
     "output_type": "execute_result"
    }
   ],
   "source": [
    "x_temp"
   ]
  },
  {
   "cell_type": "code",
   "execution_count": null,
   "id": "d41b8980",
   "metadata": {},
   "outputs": [
    {
     "name": "stderr",
     "output_type": "stream",
     "text": [
      " 38%|██████████████████████████████████████████████████████▉                                                                                           | 3464/9206 [41:41<15:48,  6.05it/s]"
     ]
    }
   ],
   "source": [
    "# Build data for lstm\n",
    "past = 5 # 5 months of data\n",
    "future = 1 # next month risk prem\n",
    "X_arr,y = [],[]\n",
    "\n",
    "for p in tqdm(permno_set):\n",
    "    idxs = [idx for idx, val in enumerate(permno_ids) if val == p]\n",
    "    temp_df = df.iloc[idxs]\n",
    "    temp_exret = exret.iloc[idxs]\n",
    "    \n",
    "    for i in range(len(temp_df) - past - future + 1):\n",
    "        X_arr.append(temp_df.iloc[i:i+past])\n",
    "        y.append(temp_exret.iloc[i+past:i+past+future])\n",
    "        "
   ]
  }
 ],
 "metadata": {
  "kernelspec": {
   "display_name": "Python 3 (ipykernel)",
   "language": "python",
   "name": "python3"
  },
  "language_info": {
   "codemirror_mode": {
    "name": "ipython",
    "version": 3
   },
   "file_extension": ".py",
   "mimetype": "text/x-python",
   "name": "python",
   "nbconvert_exporter": "python",
   "pygments_lexer": "ipython3",
   "version": "3.10.3"
  }
 },
 "nbformat": 4,
 "nbformat_minor": 5
}
